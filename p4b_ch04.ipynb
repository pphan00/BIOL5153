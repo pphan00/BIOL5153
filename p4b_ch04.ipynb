{
 "cells": [
  {
   "cell_type": "code",
   "execution_count": 1,
   "metadata": {},
   "outputs": [],
   "source": [
    "seq_1 = \"ARCGRACGARCGARCGARCGCRAGACGTATCG\"\n",
    "seq_2 = \"actgatcgacgatcgatcgatcacgact\"\n",
    "seq_3 = \"ACTGAC-ACTGT-ACTGTA----CATGTG\""
   ]
  },
  {
   "cell_type": "code",
   "execution_count": 4,
   "metadata": {},
   "outputs": [
    {
     "name": "stdout",
     "output_type": "stream",
     "text": [
      "Homo sapiens\n",
      "132\n"
     ]
    }
   ],
   "source": [
    "apes = [\"Homo sapiens\", \"Pan troglodytes\", \"Gorilla gorilla\"]\n",
    "conserved_sites = [24, 56, 132]\n",
    "print(apes[0])\n",
    "first_site = conserved_sites[2]\n",
    "print(first_site)"
   ]
  },
  {
   "cell_type": "code",
   "execution_count": 5,
   "metadata": {},
   "outputs": [],
   "source": [
    "apes = [\"Homo sapiens\", \"Pan troglodytes\", \"Gorilla gorilla\"]\n",
    "chimp_index = apes.index(\"Pan troglodytes\")\n",
    "# chimp_index is now 1"
   ]
  },
  {
   "cell_type": "code",
   "execution_count": 6,
   "metadata": {},
   "outputs": [
    {
     "name": "stdout",
     "output_type": "stream",
     "text": [
      "Gorilla gorilla\n"
     ]
    }
   ],
   "source": [
    "#give index negative value, it will start counting from the end upward instead\n",
    "last_ape = apes[-1]\n",
    "print(last_ape)"
   ]
  },
  {
   "cell_type": "code",
   "execution_count": 7,
   "metadata": {},
   "outputs": [
    {
     "name": "stdout",
     "output_type": "stream",
     "text": [
      "['class', 'order', 'family']\n"
     ]
    }
   ],
   "source": [
    "ranks = [\"kingdom\", \"phylum\", \"class\", \"order\", \"family\"]\n",
    "lower_rank = ranks[2:5]\n",
    "# lower ranks are class, order and family\n",
    "# [2:5] = include index 2,3,4 but exclude 5\n",
    "# inclusive start, exclusive end\n",
    "print(lower_rank)"
   ]
  },
  {
   "cell_type": "code",
   "execution_count": 10,
   "metadata": {},
   "outputs": [
    {
     "name": "stdout",
     "output_type": "stream",
     "text": [
      "there are 3 apes\n",
      "now there are 4 apes\n"
     ]
    }
   ],
   "source": [
    "apes = [\"Homo sapiens\", \"Pan troglodytes\", \"Gorilla gorilla\"]\n",
    "print (\"there are \"+ str(len(apes)) + \" apes\")\n",
    "apes.append(\"Pan paniscus\")\n",
    "print (\"now there are \"+ str(len(apes)) + \" apes\")"
   ]
  },
  {
   "cell_type": "code",
   "execution_count": 11,
   "metadata": {},
   "outputs": [
    {
     "name": "stdout",
     "output_type": "stream",
     "text": [
      "3 apes\n",
      "2 monkeys\n",
      "5 primates\n"
     ]
    }
   ],
   "source": [
    "apes = [\"Homo sapiens\", \"Pan troglodytes\", \"Gorilla gorilla\"]\n",
    "monkeys = [\"Papio ursinus\", \"Macaca mulatta\"]\n",
    "primates = apes + monkeys\n",
    "\n",
    "print(str(len(apes))+ \" apes\")\n",
    "print(str(len(monkeys))+ \" monkeys\")\n",
    "print(str(len(primates))+ \" primates\")"
   ]
  },
  {
   "cell_type": "code",
   "execution_count": 13,
   "metadata": {},
   "outputs": [
    {
     "name": "stdout",
     "output_type": "stream",
     "text": [
      "Start ['kingdom', 'phylum', 'class', 'order', 'family']\n",
      "After reversing ['family', 'order', 'class', 'phylum', 'kingdom']\n",
      "After sorting ['class', 'family', 'kingdom', 'order', 'phylum']\n"
     ]
    }
   ],
   "source": [
    "ranks = [\"kingdom\", \"phylum\", \"class\", \"order\", \"family\"]\n",
    "print(\"Start \" + str(ranks))\n",
    "ranks.reverse()\n",
    "print(\"After reversing \"+str(ranks))\n",
    "ranks.sort()\n",
    "print(\"After sorting \"+str(ranks))"
   ]
  },
  {
   "cell_type": "code",
   "execution_count": 14,
   "metadata": {},
   "outputs": [
    {
     "name": "stdout",
     "output_type": "stream",
     "text": [
      "Homo sapiens is an ape\n",
      "Pan troglodytes is an ape\n",
      "Gorilla gorilla is an ape\n"
     ]
    }
   ],
   "source": [
    "#Loop\n",
    "apes = [\"Homo sapiens\", \"Pan troglodytes\", \"Gorilla gorilla\"]\n",
    "for ape in apes:\n",
    "    print(ape + \" is an ape\")"
   ]
  },
  {
   "cell_type": "code",
   "execution_count": 16,
   "metadata": {},
   "outputs": [
    {
     "name": "stdout",
     "output_type": "stream",
     "text": [
      "Homo sapiens is an ape. Its name start with H\n",
      "Its name has 12 letters\n",
      "Pan troglodytes is an ape. Its name start with P\n",
      "Its name has 15 letters\n",
      "Gorilla gorilla is an ape. Its name start with G\n",
      "Its name has 15 letters\n"
     ]
    }
   ],
   "source": [
    "apes = [\"Homo sapiens\", \"Pan troglodytes\", \"Gorilla gorilla\"]\n",
    "for ape in apes:\n",
    "    name_length = len(ape)\n",
    "    first = ape[0]\n",
    "    print(ape + \" is an ape. Its name start with \" + first)\n",
    "    print(\"Its name has \" + str(name_length) + \" letters\")"
   ]
  },
  {
   "cell_type": "code",
   "execution_count": 17,
   "metadata": {},
   "outputs": [
    {
     "name": "stdout",
     "output_type": "stream",
     "text": [
      "one character is m\n",
      "one character is a\n",
      "one character is r\n",
      "one character is t\n",
      "one character is i\n",
      "one character is n\n"
     ]
    }
   ],
   "source": [
    "#string as a list\n",
    "name = \"martin\"\n",
    "for character in name:\n",
    "    print(\"one character is \" +character)"
   ]
  },
  {
   "cell_type": "code",
   "execution_count": 18,
   "metadata": {},
   "outputs": [
    {
     "name": "stdout",
     "output_type": "stream",
     "text": [
      "['melanogaster', 'simulans', 'yakuba', 'ananassae']\n"
     ]
    }
   ],
   "source": [
    "#splitting string to make a list\n",
    "names = \"melanogaster,simulans,yakuba,ananassae\"\n",
    "species = names.split(\",\")\n",
    "print(str(species))"
   ]
  },
  {
   "cell_type": "code",
   "execution_count": 19,
   "metadata": {},
   "outputs": [
    {
     "name": "stdout",
     "output_type": "stream",
     "text": [
      "vls\n",
      "vlsp\n",
      "vlspa\n",
      "vlspad\n",
      "vlspadk\n",
      "vlspadkt\n",
      "vlspadktn\n"
     ]
    }
   ],
   "source": [
    "protein = \"vlspadktnv\"\n",
    "stop_positions = [3,4,5,6,7,8,9]\n",
    "for stop in stop_positions:\n",
    "    substring = protein[0:stop]\n",
    "    print(substring)"
   ]
  },
  {
   "cell_type": "code",
   "execution_count": 20,
   "metadata": {},
   "outputs": [
    {
     "name": "stdout",
     "output_type": "stream",
     "text": [
      "3\n",
      "4\n",
      "5\n",
      "6\n",
      "7\n"
     ]
    }
   ],
   "source": [
    "for number in range(3,8):\n",
    "    print(number)"
   ]
  },
  {
   "cell_type": "code",
   "execution_count": 22,
   "metadata": {},
   "outputs": [
    {
     "name": "stdout",
     "output_type": "stream",
     "text": [
      "2\n",
      "6\n",
      "10\n"
     ]
    }
   ],
   "source": [
    "for number in range(2,14,4):\n",
    "    print(number)\n",
    "    #range goes from 2 (inclusive) to 13 (exclusive to 14), by a step size of 4"
   ]
  },
  {
   "cell_type": "code",
   "execution_count": null,
   "metadata": {},
   "outputs": [],
   "source": []
  }
 ],
 "metadata": {
  "kernelspec": {
   "display_name": "Python 3",
   "language": "python",
   "name": "python3"
  },
  "language_info": {
   "codemirror_mode": {
    "name": "ipython",
    "version": 3
   },
   "file_extension": ".py",
   "mimetype": "text/x-python",
   "name": "python",
   "nbconvert_exporter": "python",
   "pygments_lexer": "ipython3",
   "version": "3.7.4"
  }
 },
 "nbformat": 4,
 "nbformat_minor": 2
}
