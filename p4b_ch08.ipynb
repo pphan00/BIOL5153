{
 "cells": [
  {
   "cell_type": "code",
   "execution_count": 7,
   "metadata": {},
   "outputs": [
    {
     "name": "stdout",
     "output_type": "stream",
     "text": [
      "count is 0 for AAA\n",
      "count is 0 for AAT\n",
      "count is 0 for AAG\n",
      "count is 0 for AAC\n",
      "count is 0 for ATA\n",
      "count is 0 for ATT\n",
      "count is 0 for ATG\n",
      "count is 3 for ATC\n",
      "count is 0 for AGA\n",
      "count is 0 for AGT\n",
      "count is 0 for AGG\n",
      "count is 0 for AGC\n",
      "count is 0 for ACA\n",
      "count is 0 for ACT\n",
      "count is 1 for ACG\n",
      "count is 0 for ACC\n",
      "count is 0 for TAA\n",
      "count is 0 for TAT\n",
      "count is 0 for TAG\n",
      "count is 1 for TAC\n",
      "count is 0 for TTA\n",
      "count is 0 for TTT\n",
      "count is 0 for TTG\n",
      "count is 0 for TTC\n",
      "count is 1 for TGA\n",
      "count is 0 for TGT\n",
      "count is 0 for TGG\n",
      "count is 0 for TGC\n",
      "count is 0 for TCA\n",
      "count is 0 for TCT\n",
      "count is 3 for TCG\n",
      "count is 0 for TCC\n",
      "count is 0 for GAA\n",
      "count is 2 for GAT\n",
      "count is 0 for GAG\n",
      "count is 0 for GAC\n",
      "count is 1 for GTA\n",
      "count is 0 for GTT\n",
      "count is 0 for GTG\n",
      "count is 0 for GTC\n",
      "count is 0 for GGA\n",
      "count is 0 for GGT\n",
      "count is 0 for GGG\n",
      "count is 0 for GGC\n",
      "count is 0 for GCA\n",
      "count is 1 for GCT\n",
      "count is 0 for GCG\n",
      "count is 0 for GCC\n",
      "count is 0 for CAA\n",
      "count is 0 for CAT\n",
      "count is 0 for CAG\n",
      "count is 0 for CAC\n",
      "count is 0 for CTA\n",
      "count is 0 for CTT\n",
      "count is 1 for CTG\n",
      "count is 0 for CTC\n",
      "count is 2 for CGA\n",
      "count is 1 for CGT\n",
      "count is 0 for CGG\n",
      "count is 1 for CGC\n",
      "count is 0 for CCA\n",
      "count is 0 for CCT\n",
      "count is 0 for CCG\n",
      "count is 0 for CCC\n",
      "[0, 0, 0, 0, 0, 0, 0, 3, 0, 0, 0, 0, 0, 0, 1, 0, 0, 0, 0, 1, 0, 0, 0, 0, 1, 0, 0, 0, 0, 0, 3, 0, 0, 2, 0, 0, 1, 0, 0, 0, 0, 0, 0, 0, 0, 1, 0, 0, 0, 0, 0, 0, 0, 0, 1, 0, 2, 1, 0, 1, 0, 0, 0, 0]\n",
      "['AAA', 'AAT', 'AAG', 'AAC', 'ATA', 'ATT', 'ATG', 'ATC', 'AGA', 'AGT', 'AGG', 'AGC', 'ACA', 'ACT', 'ACG', 'ACC', 'TAA', 'TAT', 'TAG', 'TAC', 'TTA', 'TTT', 'TTG', 'TTC', 'TGA', 'TGT', 'TGG', 'TGC', 'TCA', 'TCT', 'TCG', 'TCC', 'GAA', 'GAT', 'GAG', 'GAC', 'GTA', 'GTT', 'GTG', 'GTC', 'GGA', 'GGT', 'GGG', 'GGC', 'GCA', 'GCT', 'GCG', 'GCC', 'CAA', 'CAT', 'CAG', 'CAC', 'CTA', 'CTT', 'CTG', 'CTC', 'CGA', 'CGT', 'CGG', 'CGC', 'CCA', 'CCT', 'CCG', 'CCC']\n"
     ]
    }
   ],
   "source": [
    "dna = \"ATCGATCGATCGTACGCTGA\"\n",
    "a_count = dna.count(\"A\")\n",
    "t_count = dna.count(\"T\") \n",
    "g_count = dna.count(\"G\") \n",
    "c_count = dna.count(\"C\")\n",
    "all_counts = []\n",
    "all_trinucleotide = []\n",
    "for base1 in ['A', 'T', 'G', 'C']:\n",
    "    for base2 in ['A', 'T', 'G', 'C']:\n",
    "        for base3 in ['A', 'T', 'G', 'C']:\n",
    "            trinucleotide = base1 + base2 + base3\n",
    "            count = dna.count(trinucleotide)\n",
    "            print(\"count is \" + str(count) + \" for \" + trinucleotide)\n",
    "            all_counts.append(count)\n",
    "            all_trinucleotide.append(trinucleotide)\n",
    "print(all_counts)\n",
    "print(all_trinucleotide)"
   ]
  },
  {
   "cell_type": "code",
   "execution_count": 9,
   "metadata": {},
   "outputs": [
    {
     "name": "stdout",
     "output_type": "stream",
     "text": [
      "count for TGA is 1\n"
     ]
    }
   ],
   "source": [
    "i = all_trinucleotide.index('TGA')\n",
    "c = all_counts[i]\n",
    "print('count for TGA is ' +str(c))"
   ]
  },
  {
   "cell_type": "code",
   "execution_count": 12,
   "metadata": {},
   "outputs": [
    {
     "name": "stdout",
     "output_type": "stream",
     "text": [
      "GC[ATGC]GC\n"
     ]
    }
   ],
   "source": [
    "enzymes = { 'EcoRI':r'GAATTC', 'AvaII':r'GG(A|T)CC', 'BisI':'GC[ATGC]GC' }\n",
    "print(enzymes['BisI'])"
   ]
  },
  {
   "cell_type": "code",
   "execution_count": 13,
   "metadata": {},
   "outputs": [
    {
     "data": {
      "text/plain": [
       "'GAATTC'"
      ]
     },
     "execution_count": 13,
     "metadata": {},
     "output_type": "execute_result"
    }
   ],
   "source": [
    "enzymes = { 'EcoRI':r'GAATTC', 'AvaII':r'GG(A|T)CC', 'BisI':'GC[ATGC]GC' }\n",
    "\n",
    "#use .pop to delete an item in dict\n",
    "enzymes.pop('EcoRI')"
   ]
  },
  {
   "cell_type": "code",
   "execution_count": 16,
   "metadata": {},
   "outputs": [
    {
     "name": "stdout",
     "output_type": "stream",
     "text": [
      "{'ATC': 3, 'ACG': 1, 'TAC': 1, 'TGA': 1, 'TCG': 3, 'GAT': 2, 'GTA': 1, 'GCT': 1, 'CTG': 1, 'CGA': 2, 'CGT': 1, 'CGC': 1}\n"
     ]
    }
   ],
   "source": [
    "dna = \"ATCGATCGATCGTACGCTGA\"\n",
    "counts= {}\n",
    "for base1 in ['A', 'T', 'G', 'C']:\n",
    "    for base2 in ['A', 'T', 'G', 'C']:\n",
    "        for base3 in ['A', 'T', 'G', 'C']:\n",
    "            trinucleotide = base1 + base2 + base3\n",
    "            count = dna.count(trinucleotide)\n",
    "            if count >0:\n",
    "                counts[trinucleotide] = count\n",
    "            \n",
    "print(counts)"
   ]
  },
  {
   "cell_type": "code",
   "execution_count": 23,
   "metadata": {},
   "outputs": [
    {
     "name": "stdout",
     "output_type": "stream",
     "text": [
      "1\n",
      "1\n"
     ]
    }
   ],
   "source": [
    "print(counts['TGA'])\n",
    "\n",
    "#OR\n",
    "\n",
    "print(counts.get('TGA'))"
   ]
  },
  {
   "cell_type": "code",
   "execution_count": 22,
   "metadata": {},
   "outputs": [
    {
     "name": "stdout",
     "output_type": "stream",
     "text": [
      "None\n"
     ]
    }
   ],
   "source": [
    "if 'AAA' in counts:\n",
    "    print(counts['AAA'])\n",
    "    \n",
    "#OR\n",
    "\n",
    "print(counts.get('AAA'))"
   ]
  },
  {
   "cell_type": "code",
   "execution_count": 24,
   "metadata": {},
   "outputs": [
    {
     "name": "stdout",
     "output_type": "stream",
     "text": [
      "count for TGA is 1\n",
      "count for TGA is 0\n"
     ]
    }
   ],
   "source": [
    "print(\"count for TGA is \" + str(counts.get('TGA', 0)))\n",
    "print(\"count for TGA is \" + str(counts.get('AAA', 0)))"
   ]
  },
  {
   "cell_type": "code",
   "execution_count": 29,
   "metadata": {},
   "outputs": [
    {
     "name": "stdout",
     "output_type": "stream",
     "text": [
      "GAT\n",
      "CGA\n"
     ]
    }
   ],
   "source": [
    "dna = \"ATCGATCGATCGTACGCTGA\"\n",
    "counts= {}\n",
    "for base1 in ['A', 'T', 'G', 'C']:\n",
    "    for base2 in ['A', 'T', 'G', 'C']:\n",
    "        for base3 in ['A', 'T', 'G', 'C']:\n",
    "            trinucleotide = base1 + base2 + base3\n",
    "            count = dna.count(trinucleotide)\n",
    "            if count >0:\n",
    "                counts[trinucleotide] = count\n",
    "                if counts.get(trinucleotide, 0) == 2:\n",
    "                     print(trinucleotide)"
   ]
  },
  {
   "cell_type": "code",
   "execution_count": 36,
   "metadata": {},
   "outputs": [
    {
     "name": "stdout",
     "output_type": "stream",
     "text": [
      "GAT\n",
      "CGA\n",
      "dict_keys(['ATC', 'ACG', 'TAC', 'TGA', 'TCG', 'GAT', 'GTA', 'GCT', 'CTG', 'CGA', 'CGT', 'CGC'])\n",
      "GAT\n",
      "CGA\n"
     ]
    }
   ],
   "source": [
    "for base1 in ['A', 'T', 'G', 'C']:\n",
    "    for base2 in ['A', 'T', 'G', 'C']:\n",
    "        for base3 in ['A', 'T', 'G', 'C']:\n",
    "            trinucleotide = base1 + base2 + base3\n",
    "            count = dna.count(trinucleotide)\n",
    "            if count >0:\n",
    "                counts[trinucleotide] = count\n",
    "                if counts.get(trinucleotide, 0) == 2:\n",
    "                     print(trinucleotide)\n",
    "\n",
    "#can use counts.keys() to get the list of keys\n",
    "print(counts.keys())\n",
    "\n",
    "dict1 = counts.keys()\n",
    "\n",
    "for trinucleotide in dict1:\n",
    "    if counts.get(trinucleotide) == 2:\n",
    "        print(trinucleotide)"
   ]
  },
  {
   "cell_type": "code",
   "execution_count": null,
   "metadata": {},
   "outputs": [],
   "source": []
  },
  {
   "cell_type": "code",
   "execution_count": null,
   "metadata": {},
   "outputs": [],
   "source": [
    "#format for analyzing keys\n",
    "\n",
    "for key in my_dict.keys(): \n",
    "    value = my_dict.get(key) \n",
    "    # do something with key and value\n",
    "    \n",
    "#format for dealing with items (pair of keys and values)\n",
    "for key, value in my_dict.items(): \n",
    "    # do something with key and valu"
   ]
  }
 ],
 "metadata": {
  "kernelspec": {
   "display_name": "Python 3",
   "language": "python",
   "name": "python3"
  },
  "language_info": {
   "codemirror_mode": {
    "name": "ipython",
    "version": 3
   },
   "file_extension": ".py",
   "mimetype": "text/x-python",
   "name": "python",
   "nbconvert_exporter": "python",
   "pygments_lexer": "ipython3",
   "version": "3.7.4"
  }
 },
 "nbformat": 4,
 "nbformat_minor": 2
}
