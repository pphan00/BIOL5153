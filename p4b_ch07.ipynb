{
 "cells": [
  {
   "cell_type": "code",
   "execution_count": 1,
   "metadata": {},
   "outputs": [],
   "source": [
    "import re\n"
   ]
  },
  {
   "cell_type": "code",
   "execution_count": 2,
   "metadata": {},
   "outputs": [
    {
     "name": "stdout",
     "output_type": "stream",
     "text": [
      "\\t\\n\n"
     ]
    }
   ],
   "source": [
    "print(r\"\\t\\n\")"
   ]
  },
  {
   "cell_type": "code",
   "execution_count": 4,
   "metadata": {},
   "outputs": [
    {
     "name": "stdout",
     "output_type": "stream",
     "text": [
      "research site found\n"
     ]
    }
   ],
   "source": [
    "dna = \"ATCGCGAATTCAC\"\n",
    "if re.search(r\"GAATTC\", dna) or re.search(r\"GGTCC\", dna):\n",
    "        print(\"research site found\")"
   ]
  },
  {
   "cell_type": "code",
   "execution_count": 5,
   "metadata": {},
   "outputs": [
    {
     "name": "stdout",
     "output_type": "stream",
     "text": [
      "research site found\n"
     ]
    }
   ],
   "source": [
    "dna = \"ATCGCGAATTCAC\"\n",
    "if re.search(r\"GA(A|T)TTC\", dna):\n",
    "        print(\"research site found\")\n",
    "        \n",
    "#will match GAATTC OR GATTTC "
   ]
  },
  {
   "cell_type": "code",
   "execution_count": 6,
   "metadata": {},
   "outputs": [
    {
     "name": "stdout",
     "output_type": "stream",
     "text": [
      "research site found\n"
     ]
    }
   ],
   "source": [
    "dna = \"ATCGCGAATTCAC\"\n",
    "if re.search(r\"GA[ATGC]TTC\", dna):\n",
    "        print(\"research site found\")\n",
    "        \n",
    "#will match GAATTC OR GATTTC or GAGTTC or GACTTC\n",
    "#put ^ like : [^ATGC] negates the match, and match any character that is not A,T,G,C"
   ]
  },
  {
   "cell_type": "code",
   "execution_count": 8,
   "metadata": {},
   "outputs": [
    {
     "name": "stdout",
     "output_type": "stream",
     "text": [
      "research site found\n"
     ]
    }
   ],
   "source": [
    "#Match zero or 1 time: either GATTC or GATC\n",
    "dna = \"GATTC\"\n",
    "if re.search(r\"GAT?TC\", dna):\n",
    "        print(\"research site found\")"
   ]
  },
  {
   "cell_type": "code",
   "execution_count": 9,
   "metadata": {},
   "outputs": [
    {
     "name": "stdout",
     "output_type": "stream",
     "text": [
      "research site found\n"
     ]
    }
   ],
   "source": [
    "#Match zero or 1 time: either GATTTAC or GAAC\n",
    "dna = \"GATTTAC\"\n",
    "if re.search(r\"GA(TTT)?AC\", dna):\n",
    "        print(\"research site found\")"
   ]
  },
  {
   "cell_type": "code",
   "execution_count": 11,
   "metadata": {},
   "outputs": [
    {
     "name": "stdout",
     "output_type": "stream",
     "text": [
      "research site found\n"
     ]
    }
   ],
   "source": [
    "#Match 1 or more time: either GACTC, GACCTC, etc. but NOT GATC\n",
    "dna = \"GACCTC\"\n",
    "if re.search(r\"GAC+TC\", dna):\n",
    "        print(\"research site found\")"
   ]
  },
  {
   "cell_type": "code",
   "execution_count": 12,
   "metadata": {},
   "outputs": [
    {
     "name": "stdout",
     "output_type": "stream",
     "text": [
      "research site found\n"
     ]
    }
   ],
   "source": [
    "#Match 0 or more time: either GACTC, GACCTC, etc. AND GATC\n",
    "dna = \"GACCTC\"\n",
    "if re.search(r\"GAC*TC\", dna):\n",
    "        print(\"research site found\")"
   ]
  },
  {
   "cell_type": "code",
   "execution_count": 13,
   "metadata": {},
   "outputs": [
    {
     "name": "stdout",
     "output_type": "stream",
     "text": [
      "research site found\n"
     ]
    }
   ],
   "source": [
    "#Match single number of repeat: GAAAT and not GAT nor GAAT nor GAAAAT\n",
    "dna = \"GAAATTCC\"\n",
    "if re.search(r\"GA{3}T\", dna):\n",
    "        print(\"research site found\")"
   ]
  },
  {
   "cell_type": "code",
   "execution_count": 14,
   "metadata": {},
   "outputs": [
    {
     "name": "stdout",
     "output_type": "stream",
     "text": [
      "research site found\n"
     ]
    }
   ],
   "source": [
    "#Match specific range: GAAT and GAAAT and not GAT nor GAAAAT\n",
    "dna = \"GAAATTCC\"\n",
    "if re.search(r\"GA{2,3}T\", dna):\n",
    "        print(\"research site found\")\n",
    "        \n",
    "#if couple with [ATGC]{2,3}, it will match anything from AT, AA, GCC, GTC, etc."
   ]
  },
  {
   "cell_type": "code",
   "execution_count": 17,
   "metadata": {},
   "outputs": [
    {
     "name": "stdout",
     "output_type": "stream",
     "text": [
      "research site found\n",
      "research site found\n"
     ]
    }
   ],
   "source": [
    "#Match start(^) or end($) of string\n",
    "dna = \"GGGAAATTCC\"\n",
    "if re.search(r\"^GG\", dna):\n",
    "        print(\"research site found\")\n",
    "#Match only start with GG NOT AAGG nor AAGGCC\n",
    "\n",
    "dna = \"GGGAAATTCC\"\n",
    "if re.search(r\"CC$\", dna):\n",
    "        print(\"research site found\")\n",
    "#Match only end with CC. nOT CCAA nor GGCCAA"
   ]
  },
  {
   "cell_type": "code",
   "execution_count": 18,
   "metadata": {},
   "outputs": [
    {
     "name": "stdout",
     "output_type": "stream",
     "text": [
      "GACGTAC\n"
     ]
    }
   ],
   "source": [
    "dna = \"ATGACGTACGTACGACTG\"\n",
    "\n",
    "m = re.search(r\"GA[ATGC]{3}AC\", dna)\n",
    "print(m.group())\n"
   ]
  },
  {
   "cell_type": "code",
   "execution_count": 20,
   "metadata": {},
   "outputs": [
    {
     "name": "stdout",
     "output_type": "stream",
     "text": [
      "entire match: GACGTACGTAC\n",
      "first bit: CGT\n",
      "second bit: GT\n"
     ]
    }
   ],
   "source": [
    "dna = \"ATGACGTACGTACGACTG\"\n",
    "\n",
    "m =re.search(r\"GA([ATGC]{3})AC([ATGC]{2})AC\", dna)\n",
    "print(\"entire match: \" + m.group())\n",
    "print(\"first bit: \" + m.group(1))\n",
    "print(\"second bit: \" + m.group(2))\n",
    "\n",
    "#surround a quantifier by () will help note them as group 1, 2 , 3 etc. as substring"
   ]
  },
  {
   "cell_type": "code",
   "execution_count": 22,
   "metadata": {},
   "outputs": [
    {
     "name": "stdout",
     "output_type": "stream",
     "text": [
      "start: 2\n",
      "end: 13\n"
     ]
    }
   ],
   "source": [
    "#find position of entire match\n",
    "dna = \"ATGACGTACGTACGACTG\" \n",
    "m =re.search(r\"GA([ATGC]{3})AC([ATGC]{2})AC\", dna)\n",
    "print(\"start: \" + str(m.start()))\n",
    "print(\"end: \"+ str(m.end()))"
   ]
  },
  {
   "cell_type": "code",
   "execution_count": 23,
   "metadata": {},
   "outputs": [
    {
     "name": "stdout",
     "output_type": "stream",
     "text": [
      "start of bit 1: 4\n",
      "end of bit 1: 7\n",
      "start of bit 2: 9\n",
      "end of bit 2: 11\n"
     ]
    }
   ],
   "source": [
    "#find position of each group\n",
    "dna = \"ATGACGTACGTACGACTG\" \n",
    "m =re.search(r\"GA([ATGC]{3})AC([ATGC]{2})AC\", dna)\n",
    "print(\"start of bit 1: \" + str(m.start(1)))\n",
    "print(\"end of bit 1: \"+ str(m.end(1)))\n",
    "print(\"start of bit 2: \" + str(m.start(2)))\n",
    "print(\"end of bit 2: \"+ str(m.end(2)))"
   ]
  },
  {
   "cell_type": "code",
   "execution_count": 24,
   "metadata": {},
   "outputs": [
    {
     "name": "stdout",
     "output_type": "stream",
     "text": [
      "['ACT', 'GCAT', 'GCTACGT', 'ACGAT', 'CGA', 'TCG']\n"
     ]
    }
   ],
   "source": [
    "dna = \"ACTNGCATRGCTACGTYACGATSCGAWTCG\"\n",
    "runs = re.split(r\"[^ATGC]\", dna)\n",
    "print(runs)\n",
    "#split at anypoint that is not A,T,G,C"
   ]
  },
  {
   "cell_type": "code",
   "execution_count": 25,
   "metadata": {},
   "outputs": [
    {
     "name": "stdout",
     "output_type": "stream",
     "text": [
      "['ATTATAT', 'AAATTATA']\n"
     ]
    }
   ],
   "source": [
    "dna = \"ACTGCATTATATCGTACGAAATTATACGCGCG\"\n",
    "runs = re.findall(r\"[AT]{4,100}\", dna)\n",
    "print(runs)\n",
    "\n",
    "#not matching, just listing words, cannot find positions"
   ]
  },
  {
   "cell_type": "code",
   "execution_count": 28,
   "metadata": {},
   "outputs": [
    {
     "name": "stdout",
     "output_type": "stream",
     "text": [
      "AT rich region from 5 to 12\n",
      "AT rich region from 18 to 26\n"
     ]
    }
   ],
   "source": [
    "#finditer helps findall to be more flexible\n",
    "\n",
    "dna = \"ACTGCATTATATCGTACGAAATTATACGCGCG\" \n",
    "runs = re.finditer(r\"[AT]{3,100}\", dna)\n",
    "for match in runs:\n",
    "        run_start = match.start()\n",
    "        run_end = match.end()\n",
    "        print(\"AT rich region from \" + str(run_start) + \" to \" + str(run_end))"
   ]
  },
  {
   "cell_type": "code",
   "execution_count": null,
   "metadata": {},
   "outputs": [],
   "source": []
  }
 ],
 "metadata": {
  "kernelspec": {
   "display_name": "Python 3",
   "language": "python",
   "name": "python3"
  },
  "language_info": {
   "codemirror_mode": {
    "name": "ipython",
    "version": 3
   },
   "file_extension": ".py",
   "mimetype": "text/x-python",
   "name": "python",
   "nbconvert_exporter": "python",
   "pygments_lexer": "ipython3",
   "version": "3.7.4"
  }
 },
 "nbformat": 4,
 "nbformat_minor": 2
}
