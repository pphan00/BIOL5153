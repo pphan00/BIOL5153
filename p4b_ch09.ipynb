{
 "cells": [
  {
   "cell_type": "code",
   "execution_count": 33,
   "metadata": {},
   "outputs": [],
   "source": [
    "import os\n",
    "#rename file\n",
    "os.rename(\"out2.txt\", \"out2.txt\")\n",
    "#remove file\n",
    "os.remove(\"unwanted.txt\")\n",
    "#make folder\n",
    "os.mkdir(\"/Pokemon2\")\n",
    "#rename folders\n",
    "os.rename(\"/Pokemon2\", \"/Pokemon\" )\n",
    "#remove folder\n",
    "os.rmdir(\"/Pokemon\")"
   ]
  },
  {
   "cell_type": "code",
   "execution_count": 21,
   "metadata": {},
   "outputs": [
    {
     "ename": "NameError",
     "evalue": "name 'shutil' is not defined",
     "output_type": "error",
     "traceback": [
      "\u001b[1;31m---------------------------------------------------------------------------\u001b[0m",
      "\u001b[1;31mNameError\u001b[0m                                 Traceback (most recent call last)",
      "\u001b[1;32m<ipython-input-21-cc656258fa61>\u001b[0m in \u001b[0;36m<module>\u001b[1;34m\u001b[0m\n\u001b[0;32m      1\u001b[0m \u001b[1;31m#copy file\u001b[0m\u001b[1;33m\u001b[0m\u001b[1;33m\u001b[0m\u001b[1;33m\u001b[0m\u001b[0m\n\u001b[1;32m----> 2\u001b[1;33m \u001b[0mshutil\u001b[0m\u001b[1;33m.\u001b[0m\u001b[0mcopy\u001b[0m \u001b[1;33m(\u001b[0m\u001b[1;34m'/dna.txt'\u001b[0m\u001b[1;33m,\u001b[0m \u001b[1;34m'/Downloads/'\u001b[0m\u001b[1;33m)\u001b[0m\u001b[1;33m\u001b[0m\u001b[1;33m\u001b[0m\u001b[0m\n\u001b[0m\u001b[0;32m      3\u001b[0m \u001b[1;31m#copy folder\u001b[0m\u001b[1;33m\u001b[0m\u001b[1;33m\u001b[0m\u001b[1;33m\u001b[0m\u001b[0m\n\u001b[0;32m      4\u001b[0m \u001b[0mshutil\u001b[0m\u001b[1;33m.\u001b[0m\u001b[0mcopytree\u001b[0m\u001b[1;33m(\u001b[0m\u001b[1;34m\"/Pokemon2\"\u001b[0m\u001b[1;33m,\u001b[0m \u001b[1;34m\"/Pokemon\"\u001b[0m\u001b[1;33m)\u001b[0m\u001b[1;33m\u001b[0m\u001b[1;33m\u001b[0m\u001b[0m\n",
      "\u001b[1;31mNameError\u001b[0m: name 'shutil' is not defined"
     ]
    }
   ],
   "source": [
    "#copy file\n",
    "shutil.copy ('/dna.txt', '/Downloads/')\n",
    "#copy folder\n",
    "shutil.copytree(\"/Pokemon2\", \"/Pokemon\")"
   ]
  },
  {
   "cell_type": "code",
   "execution_count": 35,
   "metadata": {},
   "outputs": [
    {
     "name": "stdout",
     "output_type": "stream",
     "text": [
      "one file name is .anaconda\n",
      "one file name is .conda\n",
      "one file name is .condarc\n",
      "one file name is .ipynb_checkpoints\n",
      "one file name is .ipython\n",
      "one file name is .jupyter\n",
      "one file name is .Origin\n",
      "one file name is .QtWebEngineProcess\n",
      "one file name is 3D Objects\n",
      "one file name is Anaconda3\n",
      "one file name is ansel\n",
      "one file name is AppData\n",
      "one file name is Application Data\n",
      "one file name is Contacts\n",
      "one file name is Cookies\n",
      "one file name is Desktop\n",
      "one file name is dna.txt\n",
      "one file name is Documents\n",
      "one file name is Downloads\n",
      "one file name is Favorites\n",
      "one file name is IntelGraphicsProfiles\n",
      "one file name is Links\n",
      "one file name is Local Settings\n",
      "one file name is MicrosoftEdgeBackups\n",
      "one file name is Music\n",
      "one file name is My Documents\n",
      "one file name is NetHood\n",
      "one file name is NTUSER.DAT\n",
      "one file name is ntuser.dat.LOG1\n",
      "one file name is ntuser.dat.LOG2\n",
      "one file name is NTUSER.DAT{fd9a35da-49fe-11e9-aa2c-248a07783950}.TxR.0.regtrans-ms\n",
      "one file name is NTUSER.DAT{fd9a35da-49fe-11e9-aa2c-248a07783950}.TxR.1.regtrans-ms\n",
      "one file name is NTUSER.DAT{fd9a35da-49fe-11e9-aa2c-248a07783950}.TxR.2.regtrans-ms\n",
      "one file name is NTUSER.DAT{fd9a35da-49fe-11e9-aa2c-248a07783950}.TxR.blf\n",
      "one file name is NTUSER.DAT{fd9a35db-49fe-11e9-aa2c-248a07783950}.TM.blf\n",
      "one file name is NTUSER.DAT{fd9a35db-49fe-11e9-aa2c-248a07783950}.TMContainer00000000000000000001.regtrans-ms\n",
      "one file name is NTUSER.DAT{fd9a35db-49fe-11e9-aa2c-248a07783950}.TMContainer00000000000000000002.regtrans-ms\n",
      "one file name is ntuser.ini\n",
      "one file name is OneDrive\n",
      "one file name is out2.txt\n",
      "one file name is p4b_ch02.ipynb\n",
      "one file name is p4b_ch03.ipynb\n",
      "one file name is p4b_ch04.ipynb\n",
      "one file name is p4b_ch09.ipynb\n",
      "one file name is Pictures\n",
      "one file name is PrintHood\n",
      "one file name is Recent\n",
      "one file name is Saved Games\n",
      "one file name is Searches\n",
      "one file name is SendTo\n",
      "one file name is Start Menu\n",
      "one file name is Templates\n",
      "one file name is Videos\n"
     ]
    }
   ],
   "source": [
    "#listing content\n",
    "os.listdir(\".\")\n",
    "for file_name in os.listdir(\".\"):\n",
    "    print('one file name is ' + file_name)"
   ]
  },
  {
   "cell_type": "code",
   "execution_count": 1,
   "metadata": {},
   "outputs": [],
   "source": [
    "#run external program\n",
    "import subprocess "
   ]
  },
  {
   "cell_type": "code",
   "execution_count": 6,
   "metadata": {},
   "outputs": [
    {
     "ename": "CalledProcessError",
     "evalue": "Command '/bin/date +%B' returned non-zero exit status 1.",
     "output_type": "error",
     "traceback": [
      "\u001b[1;31m---------------------------------------------------------------------------\u001b[0m",
      "\u001b[1;31mCalledProcessError\u001b[0m                        Traceback (most recent call last)",
      "\u001b[1;32m<ipython-input-6-60816289b6ff>\u001b[0m in \u001b[0;36m<module>\u001b[1;34m\u001b[0m\n\u001b[0;32m      3\u001b[0m \u001b[1;33m\u001b[0m\u001b[0m\n\u001b[0;32m      4\u001b[0m \u001b[1;31m#save program output\u001b[0m\u001b[1;33m\u001b[0m\u001b[1;33m\u001b[0m\u001b[1;33m\u001b[0m\u001b[0m\n\u001b[1;32m----> 5\u001b[1;33m \u001b[0mcurrent_month\u001b[0m \u001b[1;33m=\u001b[0m \u001b[0msubprocess\u001b[0m\u001b[1;33m.\u001b[0m\u001b[0mcheck_output\u001b[0m\u001b[1;33m(\u001b[0m\u001b[1;34m\"/bin/date +%B\"\u001b[0m\u001b[1;33m,\u001b[0m \u001b[0mshell\u001b[0m\u001b[1;33m=\u001b[0m\u001b[1;32mTrue\u001b[0m\u001b[1;33m)\u001b[0m\u001b[1;33m\u001b[0m\u001b[1;33m\u001b[0m\u001b[0m\n\u001b[0m",
      "\u001b[1;32m~\\Anaconda3\\lib\\subprocess.py\u001b[0m in \u001b[0;36mcheck_output\u001b[1;34m(timeout, *popenargs, **kwargs)\u001b[0m\n\u001b[0;32m    393\u001b[0m \u001b[1;33m\u001b[0m\u001b[0m\n\u001b[0;32m    394\u001b[0m     return run(*popenargs, stdout=PIPE, timeout=timeout, check=True,\n\u001b[1;32m--> 395\u001b[1;33m                **kwargs).stdout\n\u001b[0m\u001b[0;32m    396\u001b[0m \u001b[1;33m\u001b[0m\u001b[0m\n\u001b[0;32m    397\u001b[0m \u001b[1;33m\u001b[0m\u001b[0m\n",
      "\u001b[1;32m~\\Anaconda3\\lib\\subprocess.py\u001b[0m in \u001b[0;36mrun\u001b[1;34m(input, capture_output, timeout, check, *popenargs, **kwargs)\u001b[0m\n\u001b[0;32m    485\u001b[0m         \u001b[1;32mif\u001b[0m \u001b[0mcheck\u001b[0m \u001b[1;32mand\u001b[0m \u001b[0mretcode\u001b[0m\u001b[1;33m:\u001b[0m\u001b[1;33m\u001b[0m\u001b[1;33m\u001b[0m\u001b[0m\n\u001b[0;32m    486\u001b[0m             raise CalledProcessError(retcode, process.args,\n\u001b[1;32m--> 487\u001b[1;33m                                      output=stdout, stderr=stderr)\n\u001b[0m\u001b[0;32m    488\u001b[0m     \u001b[1;32mreturn\u001b[0m \u001b[0mCompletedProcess\u001b[0m\u001b[1;33m(\u001b[0m\u001b[0mprocess\u001b[0m\u001b[1;33m.\u001b[0m\u001b[0margs\u001b[0m\u001b[1;33m,\u001b[0m \u001b[0mretcode\u001b[0m\u001b[1;33m,\u001b[0m \u001b[0mstdout\u001b[0m\u001b[1;33m,\u001b[0m \u001b[0mstderr\u001b[0m\u001b[1;33m)\u001b[0m\u001b[1;33m\u001b[0m\u001b[1;33m\u001b[0m\u001b[0m\n\u001b[0;32m    489\u001b[0m \u001b[1;33m\u001b[0m\u001b[0m\n",
      "\u001b[1;31mCalledProcessError\u001b[0m: Command '/bin/date +%B' returned non-zero exit status 1."
     ]
    }
   ],
   "source": [
    "subprocess.call(\"/bin/date +%B\", shell=True)\n",
    "#it's for Linux system so I don't think it would work here\n",
    "\n",
    "#save program output\n",
    "current_month = subprocess.check_output(\"/bin/date +%B\", shell=True)"
   ]
  },
  {
   "cell_type": "code",
   "execution_count": null,
   "metadata": {},
   "outputs": [],
   "source": [
    "#hard-coded\n",
    "dna = \"ATCGATCGTGACTAGCTACG\"\n",
    "#for larger data, spreadsheet, etc. usually requries external text file\n",
    "\n",
    "accession = input(\"Accession name\")\n",
    "#input needs to wait for something to happen before return a value in string fromalso with a /n, so it needs rstrip\n"
   ]
  },
  {
   "cell_type": "code",
   "execution_count": null,
   "metadata": {},
   "outputs": [],
   "source": [
    "#sys module for command line arguments\n",
    "import sys\n",
    "print(sys.argv)\n",
    "python myprogram.py one two three\n",
    "#all are stroed as strings, so if used with number, has to convert it with int."
   ]
  },
  {
   "cell_type": "code",
   "execution_count": null,
   "metadata": {},
   "outputs": [],
   "source": []
  }
 ],
 "metadata": {
  "kernelspec": {
   "display_name": "Python 3",
   "language": "python",
   "name": "python3"
  },
  "language_info": {
   "codemirror_mode": {
    "name": "ipython",
    "version": 3
   },
   "file_extension": ".py",
   "mimetype": "text/x-python",
   "name": "python",
   "nbconvert_exporter": "python",
   "pygments_lexer": "ipython3",
   "version": "3.7.4"
  }
 },
 "nbformat": 4,
 "nbformat_minor": 2
}
